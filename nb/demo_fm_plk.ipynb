{
 "cells": [
  {
   "cell_type": "code",
   "execution_count": 1,
   "metadata": {},
   "outputs": [],
   "source": [
    "import os, time\n",
    "import numpy as np \n",
    "from simbig import halos as Halos\n",
    "from simbig import galaxies as Galaxies\n",
    "from simbig import forwardmodel as FM"
   ]
  },
  {
   "cell_type": "code",
   "execution_count": 2,
   "metadata": {},
   "outputs": [],
   "source": [
    "from simbig import obs as CosmoObs"
   ]
  },
  {
   "cell_type": "code",
   "execution_count": 3,
   "metadata": {},
   "outputs": [],
   "source": [
    "# --- plotting ---\n",
    "import matplotlib as mpl\n",
    "import matplotlib.pyplot as plt\n",
    "mpl.rcParams['text.usetex'] = True\n",
    "mpl.rcParams['font.family'] = 'serif'\n",
    "mpl.rcParams['axes.linewidth'] = 1.5\n",
    "mpl.rcParams['axes.xmargin'] = 1\n",
    "mpl.rcParams['xtick.labelsize'] = 'x-large'\n",
    "mpl.rcParams['xtick.major.size'] = 5\n",
    "mpl.rcParams['xtick.major.width'] = 1.5\n",
    "mpl.rcParams['ytick.labelsize'] = 'x-large'\n",
    "mpl.rcParams['ytick.major.size'] = 5\n",
    "mpl.rcParams['ytick.major.width'] = 1.5\n",
    "mpl.rcParams['legend.frameon'] = False"
   ]
  },
  {
   "cell_type": "markdown",
   "metadata": {},
   "source": [
    "# Read in `Quijote` Halo Catalog"
   ]
  },
  {
   "cell_type": "code",
   "execution_count": 4,
   "metadata": {},
   "outputs": [
    {
     "name": "stdout",
     "output_type": "stream",
     "text": [
      "halo readin takes 0.216496 sec\n"
     ]
    }
   ],
   "source": [
    "# read in halo catalog\n",
    "t0 = time.time()\n",
    "halos = Halos.Quijote_LHC_HR(1, z=0.5)\n",
    "print('halo readin takes %f sec' % ((time.time() - t0)))"
   ]
  },
  {
   "cell_type": "markdown",
   "metadata": {},
   "source": [
    "This halo catalog has the following cosmology"
   ]
  },
  {
   "cell_type": "code",
   "execution_count": 5,
   "metadata": {},
   "outputs": [
    {
     "name": "stdout",
     "output_type": "stream",
     "text": [
      "Om, Ob, h, ns, s8:\n",
      "(0.21390000000000003, 0.055570000000000008, 0.85990000000000011, 0.97850000000000004, 0.86189999999999989)\n"
     ]
    }
   ],
   "source": [
    "print('Om, Ob, h, ns, s8:')\n",
    "print(Halos.Quijote_LHC_cosmo(1))"
   ]
  },
  {
   "cell_type": "markdown",
   "metadata": {},
   "source": [
    "# Populate halos with HOD\n",
    "We'll use best-fit HOD parameters for LOWZ"
   ]
  },
  {
   "cell_type": "code",
   "execution_count": 6,
   "metadata": {},
   "outputs": [],
   "source": [
    "# get LOWZ HOD parameters\n",
    "theta_hod = Galaxies.thetahod_lowz_sgc()"
   ]
  },
  {
   "cell_type": "markdown",
   "metadata": {},
   "source": [
    "Now apply HOD. This populates the halo catalog in a box with galaxies"
   ]
  },
  {
   "cell_type": "code",
   "execution_count": 7,
   "metadata": {},
   "outputs": [
    {
     "name": "stdout",
     "output_type": "stream",
     "text": [
      "HOD takes 3.786370 sec\n"
     ]
    }
   ],
   "source": [
    "# apply HOD\n",
    "t0 = time.time()\n",
    "hod = Galaxies.hodGalaxies(halos, theta_hod, seed=0)\n",
    "print('HOD takes %f sec' % ((time.time() - t0)))"
   ]
  },
  {
   "cell_type": "markdown",
   "metadata": {},
   "source": [
    "# calculate $P_\\ell(k)$ for periodic box"
   ]
  },
  {
   "cell_type": "code",
   "execution_count": 8,
   "metadata": {},
   "outputs": [],
   "source": [
    "# apply RSD to hod catalog in a box\n",
    "pos_rsd = FM.Box_RSD(hod, LOS=[0,0,1], Lbox=1000)\n",
    "hod_rsd = hod.copy()\n",
    "hod_rsd['Position'] = pos_rsd"
   ]
  },
  {
   "cell_type": "code",
   "execution_count": 9,
   "metadata": {},
   "outputs": [],
   "source": [
    "plk_box = CosmoObs.Plk_box(hod_rsd)"
   ]
  },
  {
   "cell_type": "markdown",
   "metadata": {},
   "source": [
    "# Apply the forward model and calculate $P_\\ell(k)$\n",
    "Now lets apply the forward model with different levels of realism: \n",
    "1. only BOSS LOWZ South survey geometry\n",
    "2. with veto mask\n",
    "3. with fiber collisions"
   ]
  },
  {
   "cell_type": "code",
   "execution_count": 10,
   "metadata": {},
   "outputs": [
    {
     "name": "stdout",
     "output_type": "stream",
     "text": [
      "..applying angular mask takes 1 sec\n",
      "..applying radial selection\n",
      "..footprint covers 0.067 of sky\n",
      "forward model takes 7.809501 sec\n"
     ]
    }
   ],
   "source": [
    "# apply forward model without veto mask, without fiber collisions\n",
    "t0 = time.time()\n",
    "gals = FM.BOSS(hod, sample='lowz-south', seed=0, veto=False, fiber_collision=False, silent=False)\n",
    "print('forward model takes %f sec' % ((time.time() - t0)))"
   ]
  },
  {
   "cell_type": "code",
   "execution_count": 11,
   "metadata": {},
   "outputs": [
    {
     "name": "stdout",
     "output_type": "stream",
     "text": [
      "randoms take 0.622638 sec\n"
     ]
    }
   ],
   "source": [
    "# get random\n",
    "t0 = time.time()\n",
    "rand = FM.BOSS_randoms(gals, sample='lowz-south', veto=False)\n",
    "print('randoms take %f sec' % ((time.time() - t0)))"
   ]
  },
  {
   "cell_type": "code",
   "execution_count": 13,
   "metadata": {},
   "outputs": [
    {
     "name": "stderr",
     "output_type": "stream",
     "text": [
      "/home/chhahn/.conda/envs/sbi/lib/python3.7/site-packages/nbodykit/algorithms/convpower/fkp.py:531: ComplexWarning: Casting complex values to real discards the imaginary part\n",
      "  xgrid = [xx.astype('f8') + offset[ii] for ii, xx in enumerate(density2.slabs.optx)]\n",
      "/home/chhahn/.conda/envs/sbi/lib/python3.7/site-packages/nbodykit/algorithms/convpower/fkp.py:536: ComplexWarning: Casting complex values to real discards the imaginary part\n",
      "  kgrid = [kk.astype('f8') for kk in cfield.slabs.optx]\n"
     ]
    },
    {
     "name": "stdout",
     "output_type": "stream",
     "text": [
      "plk take 107.511951 sec\n"
     ]
    }
   ],
   "source": [
    "t0 = time.time()\n",
    "plk = CosmoObs.Plk_survey(gals, rand, Ngrid=360, dk=0.005, P0=1e4, silent=False)\n",
    "print('plk take %f sec' % ((time.time() - t0)))"
   ]
  },
  {
   "cell_type": "code",
   "execution_count": 14,
   "metadata": {},
   "outputs": [
    {
     "data": {
      "image/png": "[encoded data removed]",
      "text/plain": [
       "<Figure size 360x360 with 1 Axes>"
      ]
     },
     "metadata": {
      "needs_background": "light"
     },
     "output_type": "display_data"
    }
   ],
   "source": [
    "fig = plt.figure(figsize=(5,5))\n",
    "sub = fig.add_subplot(111)\n",
    "sub.plot(plk_box[0], plk_box[1], c='k', ls=':')\n",
    "sub.plot(plk[0], plk[1], c='k', label='monopole')\n",
    "sub.legend(loc='lower left', fontsize=10)\n",
    "sub.set_ylabel(r'$P_\\ell(k)$', fontsize=25)\n",
    "sub.set_yscale('log')\n",
    "sub.set_ylim(1e3, 2e5)\n",
    "sub.set_xlabel('$k$', fontsize=25)\n",
    "sub.set_xlim([3e-3, 1.])\n",
    "sub.set_xscale('log')"
   ]
  },
  {
   "cell_type": "code",
   "execution_count": 15,
   "metadata": {},
   "outputs": [
    {
     "name": "stdout",
     "output_type": "stream",
     "text": [
      "..applying angular mask takes 1 sec\n",
      "..applying veto takes 24 sec\n",
      "..applying radial selection\n",
      "..footprint covers 0.061 of sky\n"
     ]
    },
    {
     "name": "stderr",
     "output_type": "stream",
     "text": [
      "/home/chhahn/.conda/envs/sbi/lib/python3.7/site-packages/nbodykit/algorithms/convpower/fkp.py:531: ComplexWarning: Casting complex values to real discards the imaginary part\n",
      "  xgrid = [xx.astype('f8') + offset[ii] for ii, xx in enumerate(density2.slabs.optx)]\n",
      "/home/chhahn/.conda/envs/sbi/lib/python3.7/site-packages/nbodykit/algorithms/convpower/fkp.py:536: ComplexWarning: Casting complex values to real discards the imaginary part\n",
      "  kgrid = [kk.astype('f8') for kk in cfield.slabs.optx]\n"
     ]
    }
   ],
   "source": [
    "# apply forward model without veto mask, without fiber collisions\n",
    "gals_veto = FM.BOSS(hod, sample='lowz-south', seed=0, veto=True, fiber_collision=False, silent=False)\n",
    "rand_veto = FM.BOSS_randoms(gals, sample='lowz-south', veto=True)\n",
    "\n",
    "plk_veto = CosmoObs.Plk_survey(gals_veto, rand_veto, Ngrid=360, dk=0.005, P0=1e4, silent=False)"
   ]
  },
  {
   "cell_type": "code",
   "execution_count": 16,
   "metadata": {},
   "outputs": [
    {
     "data": {
      "image/png": "[encoded data removed]",
      "text/plain": [
       "<Figure size 360x360 with 1 Axes>"
      ]
     },
     "metadata": {
      "needs_background": "light"
     },
     "output_type": "display_data"
    }
   ],
   "source": [
    "fig = plt.figure(figsize=(5,5))\n",
    "sub = fig.add_subplot(111)\n",
    "sub.plot(plk_box[0], plk_box[1], c='k', ls=':')\n",
    "sub.plot(plk[0], plk[1], c='k', label='Survey Geometry')\n",
    "sub.plot(plk_veto[0], plk_veto[1], c='C0', label='+ veto mask')\n",
    "sub.legend(loc='lower left', fontsize=10)\n",
    "sub.set_ylabel(r'$P_0(k)$', fontsize=25)\n",
    "sub.set_yscale('log')\n",
    "sub.set_ylim(1e3, 2e5)\n",
    "sub.set_xlabel('$k$', fontsize=25)\n",
    "sub.set_xlim([3e-3, 1.])\n",
    "sub.set_xscale('log')"
   ]
  },
  {
   "cell_type": "code",
   "execution_count": 17,
   "metadata": {},
   "outputs": [
    {
     "name": "stdout",
     "output_type": "stream",
     "text": [
      "..applying angular mask takes 1 sec\n",
      "..applying veto takes 25 sec\n",
      "..applying radial selection\n",
      "spherematch takes 9.910167 sec\n",
      "..applying fiber collisions takes 10 sec\n",
      "..footprint covers 0.061 of sky\n"
     ]
    },
    {
     "name": "stderr",
     "output_type": "stream",
     "text": [
      "/home/chhahn/.conda/envs/sbi/lib/python3.7/site-packages/nbodykit/algorithms/convpower/fkp.py:531: ComplexWarning: Casting complex values to real discards the imaginary part\n",
      "  xgrid = [xx.astype('f8') + offset[ii] for ii, xx in enumerate(density2.slabs.optx)]\n",
      "/home/chhahn/.conda/envs/sbi/lib/python3.7/site-packages/nbodykit/algorithms/convpower/fkp.py:536: ComplexWarning: Casting complex values to real discards the imaginary part\n",
      "  kgrid = [kk.astype('f8') for kk in cfield.slabs.optx]\n"
     ]
    }
   ],
   "source": [
    "# apply forward model with veto mask and fiber collisions\n",
    "gals_veto_fc = FM.BOSS(hod, sample='lowz-south', seed=0, veto=True, fiber_collision=True, silent=False)\n",
    "\n",
    "plk_veto_fc = CosmoObs.Plk_survey(gals_veto_fc, rand_veto, Ngrid=360, dk=0.005, P0=1e4, silent=False)"
   ]
  },
  {
   "cell_type": "code",
   "execution_count": 18,
   "metadata": {},
   "outputs": [
    {
     "data": {
      "image/png": "[encoded data removed]",
      "text/plain": [
       "<Figure size 360x360 with 1 Axes>"
      ]
     },
     "metadata": {
      "needs_background": "light"
     },
     "output_type": "display_data"
    }
   ],
   "source": [
    "fig = plt.figure(figsize=(5,5))\n",
    "sub = fig.add_subplot(111)\n",
    "sub.plot(plk_box[0], plk_box[1], c='k', ls=':')\n",
    "sub.plot(plk[0], plk[1], c='k', label='Survey Geometry')\n",
    "sub.plot(plk_veto[0], plk_veto[1], c='C0', label='+ veto mask')\n",
    "sub.plot(plk_veto_fc[0], plk_veto_fc[1], c='C1', label='+ fiber coll.')\n",
    "sub.legend(loc='lower left', fontsize=10)\n",
    "sub.set_ylabel(r'$P_0(k)$', fontsize=25)\n",
    "sub.set_yscale('log')\n",
    "sub.set_ylim(1e3, 2e5)\n",
    "sub.set_xlabel('$k$', fontsize=25)\n",
    "sub.set_xlim([3e-3, 1.])\n",
    "sub.set_xscale('log')"
   ]
  }
 ],
 "metadata": {
  "kernelspec": {
   "display_name": "sbi",
   "language": "python",
   "name": "sbi"
  },
  "language_info": {
   "codemirror_mode": {
    "name": "ipython",
    "version": 3
   },
   "file_extension": ".py",
   "mimetype": "text/x-python",
   "name": "python",
   "nbconvert_exporter": "python",
   "pygments_lexer": "ipython3",
   "version": "3.7.10"
  }
 },
 "nbformat": 4,
 "nbformat_minor": 4
}
