{
 "cells": [
  {
   "cell_type": "code",
   "execution_count": 1,
   "metadata": {},
   "outputs": [],
   "source": [
    "import os, time\n",
    "import numpy as np \n",
    "from simbig import halos as Halos\n",
    "from simbig import galaxies as Galaxies\n",
    "from simbig import forwardmodel as FM"
   ]
  },
  {
   "cell_type": "code",
   "execution_count": 2,
   "metadata": {},
   "outputs": [],
   "source": [
    "from simbig import obs as CosmoObs"
   ]
  },
  {
   "cell_type": "code",
   "execution_count": 3,
   "metadata": {},
   "outputs": [],
   "source": [
    "# --- plotting ---\n",
    "import matplotlib as mpl\n",
    "import matplotlib.pyplot as plt\n",
    "mpl.rcParams['text.usetex'] = True\n",
    "mpl.rcParams['font.family'] = 'serif'\n",
    "mpl.rcParams['axes.linewidth'] = 1.5\n",
    "mpl.rcParams['axes.xmargin'] = 1\n",
    "mpl.rcParams['xtick.labelsize'] = 'x-large'\n",
    "mpl.rcParams['xtick.major.size'] = 5\n",
    "mpl.rcParams['xtick.major.width'] = 1.5\n",
    "mpl.rcParams['ytick.labelsize'] = 'x-large'\n",
    "mpl.rcParams['ytick.major.size'] = 5\n",
    "mpl.rcParams['ytick.major.width'] = 1.5\n",
    "mpl.rcParams['legend.frameon'] = False"
   ]
  },
  {
   "cell_type": "markdown",
   "metadata": {},
   "source": [
    "# Read in `Quijote` Halo Catalog\n",
    "I'm using `i=1118`th cosmology in the LHC because that's the closest to the cosmology used in Manera+(2015)"
   ]
  },
  {
   "cell_type": "code",
   "execution_count": 4,
   "metadata": {},
   "outputs": [
    {
     "name": "stdout",
     "output_type": "stream",
     "text": [
      "halo readin takes 0.331310 sec\n"
     ]
    }
   ],
   "source": [
    "# read in halo catalog\n",
    "t0 = time.time()\n",
    "halos = Halos.Quijote_LHC_HR(1118, z=0.5)\n",
    "print('halo readin takes %f sec' % ((time.time() - t0)))"
   ]
  },
  {
   "cell_type": "markdown",
   "metadata": {},
   "source": [
    "This halo catalog has the following cosmology"
   ]
  },
  {
   "cell_type": "code",
   "execution_count": 5,
   "metadata": {},
   "outputs": [
    {
     "name": "stdout",
     "output_type": "stream",
     "text": [
      "Om, Ob, h, ns, s8:\n",
      "(0.2671, 0.03993, 0.6845, 0.96030000000000004, 0.78549999999999998)\n"
     ]
    }
   ],
   "source": [
    "print('Om, Ob, h, ns, s8:')\n",
    "print(Halos.Quijote_LHC_cosmo(1118))"
   ]
  },
  {
   "cell_type": "markdown",
   "metadata": {},
   "source": [
    "# Populate halos with HOD\n",
    "We'll use best-fit HOD parameters for LOWZ"
   ]
  },
  {
   "cell_type": "code",
   "execution_count": 6,
   "metadata": {},
   "outputs": [],
   "source": [
    "# get LOWZ HOD parameters\n",
    "theta_hod = Galaxies.thetahod_lowz_sgc()"
   ]
  },
  {
   "cell_type": "markdown",
   "metadata": {},
   "source": [
    "Now apply HOD. This populates the halo catalog in a box with galaxies"
   ]
  },
  {
   "cell_type": "code",
   "execution_count": 7,
   "metadata": {},
   "outputs": [
    {
     "name": "stdout",
     "output_type": "stream",
     "text": [
      "HOD takes 4.252370 sec\n"
     ]
    }
   ],
   "source": [
    "# apply HOD\n",
    "t0 = time.time()\n",
    "hod = Galaxies.hodGalaxies(halos, theta_hod, seed=0)\n",
    "print('HOD takes %f sec' % ((time.time() - t0)))"
   ]
  },
  {
   "cell_type": "markdown",
   "metadata": {},
   "source": [
    "# calculate $P_\\ell(k)$ for periodic box"
   ]
  },
  {
   "cell_type": "code",
   "execution_count": 8,
   "metadata": {},
   "outputs": [],
   "source": [
    "# apply RSD to hod catalog in a box\n",
    "pos_rsd = FM.Box_RSD(hod, LOS=[0,0,1], Lbox=1000)\n",
    "hod_rsd = hod.copy()\n",
    "hod_rsd['Position'] = pos_rsd"
   ]
  },
  {
   "cell_type": "code",
   "execution_count": 9,
   "metadata": {},
   "outputs": [],
   "source": [
    "plk_box = CosmoObs.Plk_box(hod_rsd)"
   ]
  },
  {
   "cell_type": "markdown",
   "metadata": {},
   "source": [
    "# Apply the forward model and calculate $P_\\ell(k)$\n",
    "Now lets apply the forward model with different levels of realism: \n",
    "1. only BOSS LOWZ South survey geometry\n",
    "2. with veto mask\n",
    "3. with fiber collisions"
   ]
  },
  {
   "cell_type": "code",
   "execution_count": 10,
   "metadata": {},
   "outputs": [
    {
     "name": "stdout",
     "output_type": "stream",
     "text": [
      "..applying angular mask takes 1 sec\n",
      "..applying radial selection\n",
      "..footprint covers 0.067 of sky\n",
      "forward model takes 13.570073 sec\n"
     ]
    }
   ],
   "source": [
    "# apply forward model without veto mask, without fiber collisions\n",
    "t0 = time.time()\n",
    "gals = FM.BOSS(hod, sample='lowz-south', seed=0, veto=False, fiber_collision=False, silent=False)\n",
    "print('forward model takes %f sec' % ((time.time() - t0)))"
   ]
  },
  {
   "cell_type": "code",
   "execution_count": 11,
   "metadata": {},
   "outputs": [
    {
     "name": "stdout",
     "output_type": "stream",
     "text": [
      "randoms take 0.639880 sec\n"
     ]
    }
   ],
   "source": [
    "# get random\n",
    "t0 = time.time()\n",
    "rand = FM.BOSS_randoms(gals, sample='lowz-south', veto=False)\n",
    "print('randoms take %f sec' % ((time.time() - t0)))"
   ]
  },
  {
   "cell_type": "code",
   "execution_count": null,
   "metadata": {},
   "outputs": [
    {
     "name": "stderr",
     "output_type": "stream",
     "text": [
      "/home/chhahn/.conda/envs/sbi/lib/python3.7/site-packages/nbodykit/algorithms/convpower/fkp.py:531: ComplexWarning: Casting complex values to real discards the imaginary part\n",
      "  xgrid = [xx.astype('f8') + offset[ii] for ii, xx in enumerate(density2.slabs.optx)]\n",
      "/home/chhahn/.conda/envs/sbi/lib/python3.7/site-packages/nbodykit/algorithms/convpower/fkp.py:536: ComplexWarning: Casting complex values to real discards the imaginary part\n",
      "  kgrid = [kk.astype('f8') for kk in cfield.slabs.optx]\n"
     ]
    }
   ],
   "source": [
    "t0 = time.time()\n",
    "plk = CosmoObs.Plk_survey(gals, rand, Ngrid=360, dk=0.005, P0=1e4, silent=False)\n",
    "print('plk take %f sec' % ((time.time() - t0)))"
   ]
  },
  {
   "cell_type": "code",
   "execution_count": null,
   "metadata": {},
   "outputs": [],
   "source": [
    "fig = plt.figure(figsize=(5,5))\n",
    "sub = fig.add_subplot(111)\n",
    "sub.plot(plk_box[0], plk_box[1], c='k', ls=':')\n",
    "sub.plot(plk[0], plk[1], c='k', label='monopole')\n",
    "sub.legend(loc='lower left', fontsize=10)\n",
    "sub.set_ylabel(r'$P_\\ell(k)$', fontsize=25)\n",
    "sub.set_yscale('log')\n",
    "sub.set_ylim(1e3, 2e5)\n",
    "sub.set_xlabel('$k$', fontsize=25)\n",
    "sub.set_xlim([3e-3, 1.])\n",
    "sub.set_xscale('log')"
   ]
  },
  {
   "cell_type": "code",
   "execution_count": null,
   "metadata": {},
   "outputs": [],
   "source": [
    "# apply forward model without veto mask, without fiber collisions\n",
    "gals_veto = FM.BOSS(hod, sample='lowz-south', seed=0, veto=True, fiber_collision=False, silent=False)\n",
    "rand_veto = FM.BOSS_randoms(gals, sample='lowz-south', veto=True)\n",
    "\n",
    "plk_veto = CosmoObs.Plk_survey(gals_veto, rand_veto, Ngrid=360, dk=0.005, P0=1e4, silent=False)"
   ]
  },
  {
   "cell_type": "code",
   "execution_count": null,
   "metadata": {},
   "outputs": [],
   "source": [
    "fig = plt.figure(figsize=(5,5))\n",
    "sub = fig.add_subplot(111)\n",
    "sub.plot(plk_box[0], plk_box[1], c='k', ls=':')\n",
    "sub.plot(plk[0], plk[1], c='k', label='Survey Geometry')\n",
    "sub.plot(plk_veto[0], plk_veto[1], c='C0', label='+ veto mask')\n",
    "sub.legend(loc='lower left', fontsize=10)\n",
    "sub.set_ylabel(r'$P_0(k)$', fontsize=25)\n",
    "sub.set_yscale('log')\n",
    "sub.set_ylim(1e3, 2e5)\n",
    "sub.set_xlabel('$k$', fontsize=25)\n",
    "sub.set_xlim([3e-3, 1.])\n",
    "sub.set_xscale('log')"
   ]
  },
  {
   "cell_type": "code",
   "execution_count": null,
   "metadata": {},
   "outputs": [],
   "source": [
    "# apply forward model with veto mask and fiber collisions\n",
    "gals_veto_fc = FM.BOSS(hod, sample='lowz-south', seed=0, veto=True, fiber_collision=True, silent=False)\n",
    "\n",
    "plk_veto_fc = CosmoObs.Plk_survey(gals_veto_fc, rand_veto, Ngrid=360, dk=0.005, P0=1e4, silent=False)"
   ]
  },
  {
   "cell_type": "code",
   "execution_count": null,
   "metadata": {},
   "outputs": [],
   "source": [
    "fig = plt.figure(figsize=(5,5))\n",
    "sub = fig.add_subplot(111)\n",
    "sub.plot(plk_box[0], plk_box[1], c='k', ls=':')\n",
    "sub.plot(plk[0], plk[1], c='k', lw=1, label='Survey Geometry')\n",
    "sub.plot(plk_veto[0], plk_veto[1], c='C0', lw=1, label='+ veto mask')\n",
    "sub.plot(plk_veto_fc[0], plk_veto_fc[1], c='C1', lw=1, label='+ fiber coll.')\n",
    "sub.legend(loc='lower left', fontsize=10)\n",
    "sub.set_ylabel(r'$P_0(k)$', fontsize=25)\n",
    "sub.set_yscale('log')\n",
    "sub.set_ylim(1e3, 2e5)\n",
    "sub.set_xlabel('$k$', fontsize=25)\n",
    "sub.set_xlim([3e-3, 1.])\n",
    "sub.set_xscale('log')"
   ]
  },
  {
   "cell_type": "markdown",
   "metadata": {},
   "source": [
    "# Lets compare the FMed $P_\\ell$ to the BOSS LOWZ $P_\\ell$"
   ]
  },
  {
   "cell_type": "code",
   "execution_count": null,
   "metadata": {},
   "outputs": [],
   "source": [
    "lowz = Galaxies.BOSSGalaxies(sample='lowz-south')\n",
    "zlim_lowz = (lowz['Z'] > 0.2) & (lowz['Z'] < 0.37)"
   ]
  },
  {
   "cell_type": "code",
   "execution_count": null,
   "metadata": {},
   "outputs": [],
   "source": [
    "lowz_zlim = lowz[zlim_lowz]"
   ]
  },
  {
   "cell_type": "code",
   "execution_count": null,
   "metadata": {},
   "outputs": [],
   "source": [
    "lowz_zlim.attrs['fsky'] = gals_veto_fc.attrs['fsky']\n",
    "lowz_zlim.cosmo = gals_veto_fc.cosmo"
   ]
  },
  {
   "cell_type": "code",
   "execution_count": null,
   "metadata": {},
   "outputs": [],
   "source": [
    "w_g = lowz_zlim['WEIGHT_SYSTOT'] * (lowz_zlim['WEIGHT_NOZ'] + lowz_zlim['WEIGHT_CP'] - 1.0)"
   ]
  },
  {
   "cell_type": "code",
   "execution_count": null,
   "metadata": {},
   "outputs": [],
   "source": [
    "plk_lowz = CosmoObs.Plk_survey(lowz_zlim, rand_veto, weights=np.array(w_g), Ngrid=360, dk=0.005, P0=1e4, silent=False)"
   ]
  },
  {
   "cell_type": "code",
   "execution_count": null,
   "metadata": {},
   "outputs": [],
   "source": [
    "fig = plt.figure(figsize=(5,5))\n",
    "sub = fig.add_subplot(111)\n",
    "sub.plot(plk_box[0], plk_box[1], c='k', ls=':', label='Box')\n",
    "sub.plot(plk_veto_fc[0], plk_veto_fc[1], c='C1', label='full FM')\n",
    "sub.plot(plk_lowz[0], plk_lowz[1], c='k', ls='--', label='BOSS LOWZ')\n",
    "sub.legend(loc='lower left', fontsize=10)\n",
    "sub.set_ylabel(r'$P_0(k)$', fontsize=25)\n",
    "sub.set_yscale('log')\n",
    "sub.set_ylim(1e3, 2e5)\n",
    "sub.set_xlabel('$k$', fontsize=25)\n",
    "sub.set_xlim([3e-3, 1.])\n",
    "sub.set_xscale('log')"
   ]
  },
  {
   "cell_type": "code",
   "execution_count": null,
   "metadata": {},
   "outputs": [],
   "source": []
  }
 ],
 "metadata": {
  "kernelspec": {
   "display_name": "sbi",
   "language": "python",
   "name": "sbi"
  },
  "language_info": {
   "codemirror_mode": {
    "name": "ipython",
    "version": 3
   },
   "file_extension": ".py",
   "mimetype": "text/x-python",
   "name": "python",
   "nbconvert_exporter": "python",
   "pygments_lexer": "ipython3",
   "version": "3.7.10"
  }
 },
 "nbformat": 4,
 "nbformat_minor": 4
}
